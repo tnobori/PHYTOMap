{
 "cells": [
  {
   "cell_type": "code",
   "execution_count": 79,
   "metadata": {
    "scrolled": true
   },
   "outputs": [],
   "source": [
    "%matplotlib inline\n",
    "\n",
    "import csv\n",
    "import os\n",
    "import numpy as np\n",
    "import shutil\n",
    "import skimage.io\n",
    "import tempfile\n",
    "import xarray as xr\n",
    "import matplotlib.pyplot as plt\n",
    "from slicedimage import ImageFormat\n",
    "import seaborn as sns\n",
    "from typing import Iterable, List, Optional, Set, Tuple, Union\n",
    "\n",
    "import starfish.data\n",
    "from starfish.types import Axes, Levels\n",
    "from starfish import FieldOfView\n",
    "from starfish.image import Filter\n",
    "from starfish.util.plot import imshow_plane, intensity_histogram\n",
    "from starfish import DecodedIntensityTable, IntensityTable\n",
    "from starfish.core.experiment.builder.structured_formatter import format_structured_dataset\n",
    "from starfish import data, display\n",
    "from starfish.image import ApplyTransform, LearnTransform\n",
    "from starfish.spots import FindSpots\n",
    "from starfish.util.plot import imshow_plane\n",
    "from starfish.core.spots.DecodeSpots.trace_builders import build_spot_traces_exact_match\n",
    "from starfish.spots import DecodeSpots\n",
    "from starfish.types import TraceBuildingStrategies\n",
    "from starfish.core.types import ArrayLike, Axes, Coordinates, Number\n",
    "from starfish.morphology import BinaryMaskCollection\n",
    "from starfish.core.morphology.label_image import LabelImage\n",
    "from starfish.spots import FindSpots, DecodeSpots, AssignTargets\n",
    "from starfish.core.intensity_table.intensity_table import IntensityTable"
   ]
  },
  {
   "cell_type": "markdown",
   "metadata": {},
   "source": [
    "# Loading images"
   ]
  },
  {
   "cell_type": "code",
   "execution_count": 7,
   "metadata": {},
   "outputs": [],
   "source": [
    "inputdir = \"D:/Tatsuya/STARmap/220503_5d_tip_dev_markers_benchmark/FOV1/starfish_input/\"\n",
    "primary_dir =  \"D:/Tatsuya/STARmap/220503_5d_tip_dev_markers_benchmark/FOV1/\"\n",
    "primary_out = os.path.join(primary_dir, \"data_out\")"
   ]
  },
  {
   "cell_type": "code",
   "execution_count": 4,
   "metadata": {},
   "outputs": [],
   "source": [
    "#YOU NEED TO RUN THIS ONLY ONCE!!\n",
    "\n",
    "#Convert structured data into SpaceTx Format\n",
    "#dimentin of coordinates.csv and image files in the directory should match\n",
    "\n",
    "primary_out = os.path.join(primary_dir, \"data_out\")\n",
    "os.makedirs(primary_out, exist_ok=True)\n",
    "\n",
    "\n",
    "format_structured_dataset(\n",
    "    inputdir,\n",
    "    os.path.join(inputdir, \"coordinates.csv\"),\n",
    "    primary_out,\n",
    "    ImageFormat.TIFF,\n",
    ")\n"
   ]
  },
  {
   "cell_type": "code",
   "execution_count": null,
   "metadata": {},
   "outputs": [],
   "source": [
    "# Don’t forget to replace the fake codebook.json in the output directory\n",
    "with open(os.path.join(primary_out, \"codebook.json\"), \"r\") as fh:\n",
    "    print(fh.read())"
   ]
  },
  {
   "cell_type": "code",
   "execution_count": null,
   "metadata": {},
   "outputs": [],
   "source": [
    "#Load up the experiment¶\n",
    "\n",
    "from starfish import Experiment\n",
    "\n",
    "exp = Experiment.from_json(os.path.join(primary_out, \"experiment.json\"))\n",
    "\n",
    "print(exp.fovs())\n",
    "exp"
   ]
  },
  {
   "cell_type": "markdown",
   "metadata": {},
   "source": [
    "# Image clipping and filtering"
   ]
  },
  {
   "cell_type": "code",
   "execution_count": 89,
   "metadata": {},
   "outputs": [
    {
     "data": {
      "text/plain": [
       "<starfish.ImageStack (r: 7, c: 4, z: 202, y: 1428, x: 230)>"
      ]
     },
     "execution_count": 89,
     "metadata": {},
     "output_type": "execute_result"
    }
   ],
   "source": [
    "#Trim empty space\n",
    "fov_xmin = 170\n",
    "fov_xmax = 400\n",
    "fov_ymin = 0\n",
    "fov_ymax = 1428\n",
    "\n",
    "#loading fov and image\n",
    "fov = exp['fov_000']\n",
    "image = fov.get_image(\"primary\", x=slice(fov_xmin, fov_xmax), y=slice(fov_ymin, fov_ymax)) \n",
    "image # non-matched z steps between imaging rounds causes error.\n",
    "#unfiltered image\n",
    "image_orig = image"
   ]
  },
  {
   "cell_type": "code",
   "execution_count": 85,
   "metadata": {},
   "outputs": [],
   "source": [
    "##==##==##==##==##==##==##==##==##==##==\n",
    "##==##==##==##==##==##==##==##==##==##==\n",
    "##crop area####\n",
    "xmin = 0#400\n",
    "xmax = 230#700\n",
    "# ymin = 1000\n",
    "# ymax = 1800\n",
    "ymin = 400\n",
    "ymax = 1400#1428\n",
    "##==##==##==##==##==##==##==##==##==##==\n",
    "##==##==##==##==##==##==##==##==##==##==\n",
    "\n",
    "# crop imagestacks\n",
    "image = image_orig\n",
    "crop_selection = {Axes.X: (xmin, xmax), Axes.Y: (ymin, ymax)}\n",
    "cropped_imgs_orig: image= image.sel(crop_selection)\n"
   ]
  },
  {
   "cell_type": "code",
   "execution_count": 34,
   "metadata": {},
   "outputs": [],
   "source": [
    "# bandpass filter to remove cellular background and camera noise\n",
    "bandpass = starfish.image.Filter.Bandpass(lshort=.5, llong=11, threshold=0.0)#llong=11 seemed to be good\n",
    "\n",
    "# gaussian blur to smooth z-axis\n",
    "glp = starfish.image.Filter.GaussianLowPass(\n",
    "    sigma=(1, 0, 0),\n",
    "    is_volume=True\n",
    ")\n",
    "\n",
    "# clipping\n",
    "clipper = Filter.Clip(p_min=75, is_volume=True) \n",
    "\n",
    "# apply filters\n",
    "image_filtered: image = bandpass.run(scaled)\n",
    "image_filtered: image = glp.run(image_filtered)\n",
    "image_filtered: image = clipper.run(image_filtered)\n",
    "    \n",
    "# combine all imaging rounds and channels\n",
    "cropped_dots: image = image_filtered.reduce({Axes.ROUND, Axes.CH}, func=\"max\")\n",
    "cropped_dots_orig: image = cropped_imgs_orig.reduce({Axes.ROUND, Axes.CH}, func=\"max\")"
   ]
  },
  {
   "cell_type": "markdown",
   "metadata": {},
   "source": [
    "# Spot detection"
   ]
  },
  {
   "cell_type": "code",
   "execution_count": 44,
   "metadata": {},
   "outputs": [],
   "source": [
    "\n",
    "bd = FindSpots.BlobDetector(\n",
    "    min_sigma=1,\n",
    "    max_sigma=4,\n",
    "    num_sigma=10, \n",
    "    threshold=0.1,\n",
    "    exclude_border=False, \n",
    "    measurement_type='mean'\n",
    ")\n",
    "\n",
    "# find spots on cropped images\n",
    "bd_spots_ref = bd.run(image_stack=image_filtered, reference_image=cropped_dots)\n",
    "bd_spots = bd.run(image_stack=image_filtered)\n",
    "\n",
    "# build spot traces into intensity table\n",
    "bd_table = build_spot_traces_exact_match(bd_spots_ref)\n",
    "\n",
    "# spot finding from unfiltered images \n",
    "bd_spots_ref_orig = bd.run(image_stack=cropped_imgs_orig, reference_image=cropped_dots_orig)\n",
    "bd_table_orig = build_spot_traces_exact_match(bd_spots_ref_orig)\n",
    "\n",
    "# create spot table\n",
    "spot_table = bd_table.to_features_dataframe()\n",
    "spot_table"
   ]
  },
  {
   "cell_type": "code",
   "execution_count": null,
   "metadata": {},
   "outputs": [],
   "source": [
    "# decode the pixel traces using the codebook\n",
    "codebook=exp.codebook\n",
    "decoder = DecodeSpots.SimpleLookupDecoder(codebook=codebook)#perRoundMax did not work in this test...\n",
    "decoded_bd = decoder.run(spots=bd_spots)\n",
    "data = decoded_bd.to_features_dataframe()\n",
    "data"
   ]
  },
  {
   "cell_type": "markdown",
   "metadata": {},
   "source": [
    "# Single-cell analysis"
   ]
  },
  {
   "cell_type": "code",
   "execution_count": 91,
   "metadata": {
    "scrolled": true
   },
   "outputs": [
    {
     "name": "stderr",
     "output_type": "stream",
     "text": [
      "100%|█████████████████████████████████████████████████████████████████████████████| 5656/5656 [00:29<00:00, 188.58it/s]\n"
     ]
    }
   ],
   "source": [
    "##generating segmentation mask\n",
    "##running what \"from_external_labeled_imag\" does. this function does not consider ZPLANE, so I added this feature.\n",
    "\n",
    "#import segmentation mask from PlantSeg\n",
    "#converted .h5 file from PlantSeg to Tiff on ImageJ\n",
    "seg_path='D:/Tatsuya/STARmap/220503_5d_tip_dev_markers_benchmark/FOV1/segmentation/PreProcessing_patch40-80-80/confocal_unet_bce_dice_ds3x/MultiCut_07_03_1_0_1_1/R1_4th_from_right_R1_FOV1_Merged_RAW_ch02_predictions_multicut.tiff'\n",
    "label_image = io.imread(seg_path)\n",
    "\n",
    "#trimming segmentation mask to the same dimensions as spot images\n",
    "spot_xmin = fov_xmin + xmin\n",
    "spot_xmax = spot_xmin + xmax - xmin\n",
    "spot_ymin = fov_ymin + ymin\n",
    "spot_ymax = spot_ymin + ymax - ymin\n",
    "label_image = label_image[:, spot_ymin:spot_ymax, spot_xmin:spot_xmax] #[z, y, x]\n",
    "\n",
    "#trimming original image\n",
    "image_orig = fov.get_image(\"primary\", x=slice(fov_xmin, fov_xmax), y=slice(fov_ymin, fov_ymax))\n",
    "crop_selection = {Axes.X: (xmin, xmax), Axes.Y: (ymin, ymax)}\n",
    "image2: image= image_orig.sel(crop_selection)"
   ]
  },
  {
   "cell_type": "code",
   "execution_count": 92,
   "metadata": {},
   "outputs": [],
   "source": [
    "original_image =image2\n",
    "physical_ticks = {Coordinates.Y: original_image.xarray.yc.values,\n",
    "                        Coordinates.X: original_image.xarray.xc.values,\n",
    "                 Coordinates.Z: original_image.xarray.zc.values} #added Z coordinates as this was missing in the original function\n",
    "\n",
    "# Get the pixel values from the original image\n",
    "pixel_coords = {Axes.Y: original_image.xarray.y.values,\n",
    "                        Axes.X: original_image.xarray.x.values}\n",
    "\n",
    "# Create the label image\n",
    "label_im = LabelImage.from_label_array_and_ticks(\n",
    "            label_image,\n",
    "            pixel_ticks=pixel_coords,\n",
    "            physical_ticks=physical_ticks,\n",
    "            log=original_image.log\n",
    "        )\n",
    "masks = BinaryMaskCollection.from_label_image(label_im)"
   ]
  },
  {
   "cell_type": "code",
   "execution_count": 94,
   "metadata": {},
   "outputs": [],
   "source": [
    "\n",
    "# assign spots to cells\n",
    "ta = AssignTargets.Label()\n",
    "assigned = ta.run(masks, decoded_bd)\n"
   ]
  },
  {
   "cell_type": "code",
   "execution_count": null,
   "metadata": {},
   "outputs": [],
   "source": [
    "#create cell by gene matrix\n",
    "cg = assigned.to_expression_matrix()\n",
    "\n",
    "#removing background 'cell'\n",
    "cg2 = cg[cg['cell_id']!='0000']\n",
    "\n",
    "#cell filtering by total count and normalize data\n",
    "cg2_filtered = cg2[cg2.data.T.sum(axis=0) > 5, :]\n",
    "data_norm_filtered = cg2_filtered.data.T / cg2_filtered.data.T.sum(axis=0)\n",
    "\n",
    "#save matrix with cell id\n",
    "out = cg2_filtered.to_pandas()\n",
    "keys = range(0, len(out))\n",
    "rename = dict(zip(keys,cg2_filtered.cell_id.values ))\n",
    "out = out.rename(index= rename)\n",
    "out.to_csv(primary_dir +'_analysis_scale_filter/matrix_filter2.csv')\n",
    "out"
   ]
  },
  {
   "cell_type": "markdown",
   "metadata": {},
   "source": [
    "# visualization "
   ]
  },
  {
   "cell_type": "code",
   "execution_count": 100,
   "metadata": {},
   "outputs": [],
   "source": [
    "#extract info of individual targets\n",
    "#use this function to get input data for napari visualization \n",
    "def _spots_to_markers_gene_select(intensity_table: IntensityTable, target) -> Tuple[np.ndarray, np.ndarray]:\n",
    "    data_table = intensity_table.to_features_dataframe()\n",
    "\n",
    "    #select target gene\n",
    "    data = data_table[data_table['target']==target]\n",
    "    \n",
    "    n_rounds = intensity_table.sizes[Axes.ROUND.value]\n",
    "    n_channels = intensity_table.sizes[Axes.CH.value]\n",
    "    n_features = data.shape[0]\n",
    "    code_length = n_rounds * n_channels\n",
    "    # create 5-d coordinates for plotting in (x, y, round. channel, z)\n",
    "    n_markers = n_features*n_rounds*n_channels\n",
    "    coords = np.zeros((n_markers, 5), dtype=np.uint16)\n",
    "\n",
    "    # create the coordinates.\n",
    "    # X, Y, and Z are repeated once per (r, ch) pair (code_length).\n",
    "    # the cartesian product of (r, c) are created, and tiled once per feature (n_features)\n",
    "    # we ensure that (ch, round) cycle in c-order to match the order of the linearized\n",
    "    # array, used below for masking.\n",
    "    coords[:, 0] = np.tile(np.tile(range(n_rounds), n_channels), n_features)\n",
    "    coords[:, 1] = np.tile(np.repeat(range(n_channels), n_rounds), n_features)\n",
    "    coords[:, 2] = np.repeat(data['z'].values, code_length)\n",
    "    coords[:, 3] = np.repeat(data['y'].values, code_length)\n",
    "    coords[:, 4] = np.repeat(data['x'].values, code_length)\n",
    "\n",
    "    sizes = np.repeat(data['radius'].values, code_length)\n",
    "    rc = np.zeros((sizes.shape[0], 2), dtype=int)\n",
    "    z = sizes[:, np.newaxis]\n",
    "    yx = np.tile(sizes[:, np.newaxis], (1, 2))\n",
    "    sizes = np.concatenate((rc, yx, z), axis=1)\n",
    "    return coords, sizes"
   ]
  },
  {
   "cell_type": "code",
   "execution_count": 102,
   "metadata": {},
   "outputs": [],
   "source": [
    "gene_list = ['AT3G46280', 'AT2G40260', 'AT1G71930', 'AT5G64620', 'AT1G16390', 'AT2G46570', 'AT3G54220', \n",
    "             'AT1G07640', 'AT5G53730', 'AT5G12050', 'AT1G07710', 'AT2G31310', 'AT4G29100', 'AT5G37800', \n",
    "             'AT4G22160', 'AT4G28100', 'AT3G20840', 'AT1G71692', 'AT5G58010', 'AT5G57620', 'AT3G55550',\n",
    "             'AT5G42630', 'AT2G34140', 'AT3G10080', 'AT5G48657', 'AT1G79840', 'AT4G30080', 'AT2G28900']"
   ]
  },
  {
   "cell_type": "code",
   "execution_count": null,
   "metadata": {},
   "outputs": [],
   "source": [
    "#gene visualization\n",
    "from matplotlib.pyplot import cm\n",
    "%gui qt\n",
    "viewer = display(stack=cropped_imgs_orig, masks=masks)\n",
    "color = cm.rainbow(np.linspace(0, 1, len(gene_list)))\n",
    "\n",
    "for i in range(len(gene_list)):\n",
    "    coords1, sizes1 = _spots_to_markers_gene_select(decoded_bd, gene_list[i])\n",
    "    viewer.add_points(coords1, face_color=color[i], edge_color =color[i], size=5, symbol=\"ring\", n_dimensional=True, name=gene_list[i])"
   ]
  }
 ],
 "metadata": {
  "kernelspec": {
   "display_name": "Python 3 (ipykernel)",
   "language": "python",
   "name": "python3"
  },
  "language_info": {
   "codemirror_mode": {
    "name": "ipython",
    "version": 3
   },
   "file_extension": ".py",
   "mimetype": "text/x-python",
   "name": "python",
   "nbconvert_exporter": "python",
   "pygments_lexer": "ipython3",
   "version": "3.7.13"
  }
 },
 "nbformat": 4,
 "nbformat_minor": 4
}

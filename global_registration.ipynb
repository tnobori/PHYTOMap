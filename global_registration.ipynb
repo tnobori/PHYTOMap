{
 "cells": [
  {
   "cell_type": "code",
   "execution_count": 1,
   "metadata": {},
   "outputs": [],
   "source": [
    "import phytomap_registration \n",
    "\n",
    "import io\n",
    "import numpy as np\n",
    "from bigstream import transform\n",
    "from matplotlib import pyplot as plt\n",
    "import zarr\n",
    "from bigstream import affine\n",
    "\n",
    "\n",
    "from skimage import io\n",
    "from numcodecs import Blosc\n",
    "from dask.array import to_zarr\n",
    "\n",
    "from IPython.display import display, HTML\n",
    "display(HTML(\"<style>.container { height:100% !important; }</style>\"))\n",
    "import time\n"
   ]
  },
  {
   "cell_type": "code",
   "execution_count": 2,
   "metadata": {},
   "outputs": [
    {
     "data": {
      "application/javascript": [
       "IPython.OutputArea.auto_scroll_threshold = 9999;\n"
      ],
      "text/plain": [
       "<IPython.core.display.Javascript object>"
      ]
     },
     "metadata": {},
     "output_type": "display_data"
    }
   ],
   "source": [
    "%%javascript\n",
    "IPython.OutputArea.auto_scroll_threshold = 9999;"
   ]
  },
  {
   "cell_type": "code",
   "execution_count": 3,
   "metadata": {},
   "outputs": [],
   "source": [
    "#common parameters\n",
    "in_dir = \".../FOV1/\"\n",
    "out_main = \"global_align\" #name of output directory\n",
    "img_dir = \"input_img\"\n",
    "\n",
    "\n",
    "spacing = [0.36,0.36,0.42]#[xyz] in um\n",
    "slc = 150 # z plane to show for checking registered images\n",
    "min_radius=6 # radius in voxels of smallest expected blob/cell size\n",
    "max_radius=30 # radius in voxels of largest expected blob/cell size\n",
    "match_threshold=0.75 # neighborhood correlation between two key points must exceed this value for it to be a valid match\n",
    "im_rounds = [\"1\",\"2\",\"3\",\"4\",\"5\",\"6\",\"7\"] # all imaging rounds"
   ]
  },
  {
   "cell_type": "code",
   "execution_count": null,
   "metadata": {},
   "outputs": [],
   "source": [
    "\n",
    "for idx in im_rounds:\n",
    "\n",
    "    ####################\n",
    "    im_round = idx # imaging round to register\n",
    "    fixround = \"1\" # reference round\n",
    "    reg_channel = \"CH2\" # channel for registlation, such as cell boundary staining. \n",
    "    channels = [\"0\",\"1\",\"2\",\"3\",\"4\"] # channels to register\n",
    "    ####################\n",
    "\n",
    "    print(\"registering round \" + idx + \"...\")\n",
    "    startTime = time.time()\n",
    "\n",
    "    # select images for registration.\n",
    "    # assuming the image files are named in the following way: R1_CH0.tif\n",
    "    impath_fix_highres = in_dir + img_dir + \"/R\" + fixround +\"_\"+ reg_channel +\".tif\"\n",
    "    impath_mov_highres = in_dir + img_dir + \"/R\" + im_round +\"_\"+ reg_channel +\".tif\"\n",
    "\n",
    "    image_prefix = \"R\" + im_round + \"_\"\n",
    "    \n",
    "\n",
    "\n",
    "\n",
    "    # run global alignment  \n",
    "    global_affine, mov_highres_aligned_global = phytomap_registration.global_affine_reg(impath_fix=impath_fix_highres, \n",
    "                                                          impath_mov=impath_mov_highres,\n",
    "                                                          spacing=spacing,\n",
    "                                                          downsampling=[1,1,1],\n",
    "                                                          slc=slc,\n",
    "                                                          min_radius=min_radius,\n",
    "                                                          max_radius=max_radius,\n",
    "                                                          match_threshold=match_threshold\n",
    "\n",
    "                                                         )\n",
    "\n",
    "\n",
    "   \n",
    "\n",
    "\n",
    "    # apply an affine transformation to each image \n",
    "    phytomap_registration.round_submit(im_round=im_round,\n",
    "                image_prefix=image_prefix,\n",
    "                imdir=in_dir,\n",
    "                slc=slc,\n",
    "                channels=channels,\n",
    "                impath_fix_highres=impath_fix_highres,\n",
    "                spacing=spacing,\n",
    "                global_affine=global_affine,\n",
    "                out_main = out_main,\n",
    "                img_dir = img_dir\n",
    "    )\n",
    "    \n",
    "    executionTime = (time.time() - startTime)\n",
    "    print('Execution time in seconds: ' + str(executionTime))"
   ]
  }
 ],
 "metadata": {
  "kernelspec": {
   "display_name": "Python 3 (ipykernel)",
   "language": "python",
   "name": "python3"
  },
  "language_info": {
   "codemirror_mode": {
    "name": "ipython",
    "version": 3
   },
   "file_extension": ".py",
   "mimetype": "text/x-python",
   "name": "python",
   "nbconvert_exporter": "python",
   "pygments_lexer": "ipython3",
   "version": "3.7.12"
  }
 },
 "nbformat": 4,
 "nbformat_minor": 4
}
